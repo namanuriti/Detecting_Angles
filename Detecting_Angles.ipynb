{
  "nbformat": 4,
  "nbformat_minor": 0,
  "metadata": {
    "colab": {
      "name": "Detecting_Angles.ipynb",
      "provenance": [],
      "collapsed_sections": []
    },
    "kernelspec": {
      "name": "python3",
      "display_name": "Python 3"
    },
    "language_info": {
      "name": "python"
    }
  },
  "cells": [
    {
      "cell_type": "code",
      "execution_count": null,
      "metadata": {
        "id": "BIENAUuOt50Z"
      },
      "outputs": [],
      "source": [
        "while True:\n",
        "  inp = input('Angle:- ')\n",
        "  if inp >= 0 and inp <= 90:\n",
        "    print('This is an Acute angle.')\n",
        "  elif float(inp) == 90:\n",
        "    print('This is a Right angle.')\n",
        "  elif float(inp) >= 90 and inp <= 180:\n",
        "    print('This is an Obtuse angle.')\n",
        "  elif float(inp) == 180:\n",
        "    print('This is a Straight angle.')\n",
        "  elif float(inp) >= 180 and inp <= 360:\n",
        "    print('This is a Reflex angle.')\n",
        "  elif float(inp) == 360:\n",
        "    print('This is a Complete angle.')\n",
        "  elif float(inp) == 0:\n",
        "    print('This is a Zero angle.')\n",
        "  elif inp == 'q':\n",
        "    print('Thank you for playing!!')\n",
        "    break\n",
        "  else:\n",
        "    'Invalid!'\n",
        "    continue"
      ]
    }
  ]
}